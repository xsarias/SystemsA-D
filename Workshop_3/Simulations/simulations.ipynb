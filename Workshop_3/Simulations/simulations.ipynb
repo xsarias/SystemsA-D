{
 "cells": [
  {
   "cell_type": "markdown",
   "id": "0276e113",
   "metadata": {},
   "source": [
    "# NCAA 2025 Prediction Simulation \n",
    "## Phase 1: Data Ingestion\n",
    "\n",
    "In this first phase, we load all relevant datasets from Kaggle, including:\n",
    "- Regular season results\n",
    "- Tournament results\n",
    "- Team seeds\n",
    "- Team metadata\n",
    "\n",
    "We will filter the data for seasons from 2015 onward, and extract key values such as the numeric part of each team's seed."
   ]
  },
  {
   "cell_type": "code",
   "execution_count": null,
   "id": "27634935",
   "metadata": {},
   "outputs": [
    {
     "name": "stdout",
     "output_type": "stream",
     "text": [
      " Regular season shape: (118882, 34)\n",
      " Tournament results shape: (2518, 8)\n",
      " Seeds example:\n",
      "    Season Seed  TeamID\n",
      "0    1985  W01    1207\n",
      "1    1985  W02    1210\n",
      "2    1985  W03    1228\n",
      "3    1985  W04    1260\n",
      "4    1985  W05    1374\n",
      " Teams loaded: 380\n"
     ]
    }
   ],
   "source": [
    "# Load datasets\n",
    "import pandas as pd\n",
    "import re\n",
    "\n",
    "DATA_PATH = \"Data/\"\n",
    "\n",
    "regular_season = pd.read_csv(DATA_PATH + \"MRegularSeasonDetailedResults.csv\")\n",
    "tourney_results = pd.read_csv(DATA_PATH + \"MNCAATourneyCompactResults.csv\")\n",
    "seeds = pd.read_csv(DATA_PATH + \"MNCAATourneySeeds.csv\")\n",
    "teams = pd.read_csv(DATA_PATH + \"MTeams.csv\")\n",
    "seasons = pd.read_csv(DATA_PATH + \"MSeasons.csv\")\n",
    "submission = pd.read_csv(DATA_PATH + \"SampleSubmissionStage1.csv\")\n",
    "\n",
    "# Quick sanity checks\n",
    "print(\" Regular season shape:\", regular_season.shape)\n",
    "print(\" Tournament results shape:\", tourney_results.shape)\n",
    "print(\" Seeds example:\\n\", seeds.head())\n",
    "print(\" Teams loaded:\", len(teams))"
   ]
  },
  {
   "cell_type": "markdown",
   "id": "7fdeaafd",
   "metadata": {},
   "source": [
    "## Phase 2: Data Reprocessing\n",
    "### Filter datasets to include only seasons from 2015 onward\n",
    "\n",
    "We restrict the analysis to data from 2015 and later to ensure consistency and relevance. This filter is applied to the regular season games, tournament results, and seed information.\n"
   ]
  },
  {
   "cell_type": "code",
   "execution_count": 10,
   "id": "50eb9ddb",
   "metadata": {},
   "outputs": [
    {
     "name": "stdout",
     "output_type": "stream",
     "text": [
      "Regular Season (before): (118882, 34)\n",
      "Seasons (before): [np.int64(2003), np.int64(2004), np.int64(2005), np.int64(2006), np.int64(2007), np.int64(2008), np.int64(2009), np.int64(2010), np.int64(2011), np.int64(2012), np.int64(2013), np.int64(2014), np.int64(2015), np.int64(2016), np.int64(2017), np.int64(2018), np.int64(2019), np.int64(2020), np.int64(2021), np.int64(2022), np.int64(2023), np.int64(2024), np.int64(2025)]\n",
      "Regular Season (after): (58364, 34)\n",
      "Seasons (after): [np.int64(2015), np.int64(2016), np.int64(2017), np.int64(2018), np.int64(2019), np.int64(2020), np.int64(2021), np.int64(2022), np.int64(2023), np.int64(2024), np.int64(2025)]\n",
      "\n",
      "Tournament Results (before): (2518, 8)\n",
      "Seasons (before): [np.int64(1985), np.int64(1986), np.int64(1987), np.int64(1988), np.int64(1989), np.int64(1990), np.int64(1991), np.int64(1992), np.int64(1993), np.int64(1994), np.int64(1995), np.int64(1996), np.int64(1997), np.int64(1998), np.int64(1999), np.int64(2000), np.int64(2001), np.int64(2002), np.int64(2003), np.int64(2004), np.int64(2005), np.int64(2006), np.int64(2007), np.int64(2008), np.int64(2009), np.int64(2010), np.int64(2011), np.int64(2012), np.int64(2013), np.int64(2014), np.int64(2015), np.int64(2016), np.int64(2017), np.int64(2018), np.int64(2019), np.int64(2021), np.int64(2022), np.int64(2023), np.int64(2024)]\n",
      "Tournament Results (after): (602, 8)\n",
      "Seasons (after): [np.int64(2015), np.int64(2016), np.int64(2017), np.int64(2018), np.int64(2019), np.int64(2021), np.int64(2022), np.int64(2023), np.int64(2024)]\n",
      "\n",
      "Seeds (before): (2626, 3)\n",
      "Seasons (before): [np.int64(1985), np.int64(1986), np.int64(1987), np.int64(1988), np.int64(1989), np.int64(1990), np.int64(1991), np.int64(1992), np.int64(1993), np.int64(1994), np.int64(1995), np.int64(1996), np.int64(1997), np.int64(1998), np.int64(1999), np.int64(2000), np.int64(2001), np.int64(2002), np.int64(2003), np.int64(2004), np.int64(2005), np.int64(2006), np.int64(2007), np.int64(2008), np.int64(2009), np.int64(2010), np.int64(2011), np.int64(2012), np.int64(2013), np.int64(2014), np.int64(2015), np.int64(2016), np.int64(2017), np.int64(2018), np.int64(2019), np.int64(2021), np.int64(2022), np.int64(2023), np.int64(2024), np.int64(2025)]\n",
      "Seeds (after): (680, 3)\n",
      "Seasons (after): [np.int64(2015), np.int64(2016), np.int64(2017), np.int64(2018), np.int64(2019), np.int64(2021), np.int64(2022), np.int64(2023), np.int64(2024), np.int64(2025)]\n"
     ]
    }
   ],
   "source": [
    "# Filter data for seasons from 2015 onward and verify\n",
    "\n",
    "# Regular Season\n",
    "print(\"Regular Season (before):\", regular_season.shape)\n",
    "print(\"Seasons (before):\", sorted(regular_season[\"Season\"].unique()))\n",
    "\n",
    "regular_season = regular_season[regular_season[\"Season\"] >= 2015]\n",
    "\n",
    "print(\"Regular Season (after):\", regular_season.shape)\n",
    "print(\"Seasons (after):\", sorted(regular_season[\"Season\"].unique()))\n",
    "\n",
    "# Tournament Results\n",
    "print(\"\\nTournament Results (before):\", tourney_results.shape)\n",
    "print(\"Seasons (before):\", sorted(tourney_results[\"Season\"].unique()))\n",
    "\n",
    "tourney_results = tourney_results[tourney_results[\"Season\"] >= 2015]\n",
    "\n",
    "print(\"Tournament Results (after):\", tourney_results.shape)\n",
    "print(\"Seasons (after):\", sorted(tourney_results[\"Season\"].unique()))\n",
    "\n",
    "# Seeds\n",
    "print(\"\\nSeeds (before):\", seeds.shape)\n",
    "print(\"Seasons (before):\", sorted(seeds[\"Season\"].unique()))\n",
    "\n",
    "seeds = seeds[seeds[\"Season\"] >= 2015]\n",
    "\n",
    "print(\"Seeds (after):\", seeds.shape)\n",
    "print(\"Seasons (after):\", sorted(seeds[\"Season\"].unique()))\n"
   ]
  },
  {
   "cell_type": "markdown",
   "id": "56fe75a1",
   "metadata": {},
   "source": [
    "### Process team seeds and extract numeric values\n",
    "\n",
    "Each team in the NCAA tournament is assigned a \"seed\" (e.g., 'W05', 'X12b') representing its rank within a region.\n",
    "To use this as a numeric feature, we extract only the numeric part of the seed (e.g., 'W05' → 5).\n",
    "\n",
    "This will later allow us to compute the seed difference between two teams.\n"
   ]
  },
  {
   "cell_type": "code",
   "execution_count": 11,
   "id": "fbe53a88",
   "metadata": {},
   "outputs": [
    {
     "name": "stdout",
     "output_type": "stream",
     "text": [
      "      Season  TeamID Seed  SeedNum\n",
      "1946    2015    1437  W01        1\n",
      "1947    2015    1438  W02        2\n",
      "1948    2015    1328  W03        3\n",
      "1949    2015    1257  W04        4\n",
      "1950    2015    1320  W05        5\n",
      "1951    2015    1344  W06        6\n",
      "1952    2015    1277  W07        7\n",
      "1953    2015    1301  W08        8\n",
      "1954    2015    1261  W09        9\n",
      "1955    2015    1208  W10       10\n"
     ]
    }
   ],
   "source": [
    "import re\n",
    "\n",
    "# Function to extract the numeric seed from strings like 'W05', 'X12b', etc.\n",
    "def extract_seed_number(seed_str):\n",
    "    match = re.search(r'\\d+', seed_str)\n",
    "    return int(match.group()) if match else None\n",
    "\n",
    "# Apply to the seed column\n",
    "seeds[\"SeedNum\"] = seeds[\"Seed\"].apply(extract_seed_number)\n",
    "\n",
    "# Preview results\n",
    "print(seeds[[\"Season\", \"TeamID\", \"Seed\", \"SeedNum\"]].head(10))\n"
   ]
  },
  {
   "cell_type": "markdown",
   "id": "1874b24b",
   "metadata": {},
   "source": [
    "## Phase 3: Feature Engineering\n",
    "### Compute seed difference for each tournament game\n",
    "\n",
    "We now join the seed values to both teams in each game from the NCAA tournament historical results.\n",
    "\n",
    "The seed difference (SeedB - SeedA) will be one of the key features used for prediction.\n"
   ]
  },
  {
   "cell_type": "code",
   "execution_count": 14,
   "id": "de0de297",
   "metadata": {},
   "outputs": [
    {
     "data": {
      "text/html": [
       "<div>\n",
       "<style scoped>\n",
       "    .dataframe tbody tr th:only-of-type {\n",
       "        vertical-align: middle;\n",
       "    }\n",
       "\n",
       "    .dataframe tbody tr th {\n",
       "        vertical-align: top;\n",
       "    }\n",
       "\n",
       "    .dataframe thead th {\n",
       "        text-align: right;\n",
       "    }\n",
       "</style>\n",
       "<table border=\"1\" class=\"dataframe\">\n",
       "  <thead>\n",
       "    <tr style=\"text-align: right;\">\n",
       "      <th></th>\n",
       "      <th>Season</th>\n",
       "      <th>WTeamID</th>\n",
       "      <th>LTeamID</th>\n",
       "      <th>SeedA</th>\n",
       "      <th>SeedB</th>\n",
       "      <th>SeedDiff</th>\n",
       "    </tr>\n",
       "  </thead>\n",
       "  <tbody>\n",
       "    <tr>\n",
       "      <th>0</th>\n",
       "      <td>2015</td>\n",
       "      <td>1214</td>\n",
       "      <td>1264</td>\n",
       "      <td>16</td>\n",
       "      <td>16</td>\n",
       "      <td>0</td>\n",
       "    </tr>\n",
       "    <tr>\n",
       "      <th>1</th>\n",
       "      <td>2015</td>\n",
       "      <td>1279</td>\n",
       "      <td>1140</td>\n",
       "      <td>11</td>\n",
       "      <td>11</td>\n",
       "      <td>0</td>\n",
       "    </tr>\n",
       "    <tr>\n",
       "      <th>2</th>\n",
       "      <td>2015</td>\n",
       "      <td>1173</td>\n",
       "      <td>1129</td>\n",
       "      <td>11</td>\n",
       "      <td>11</td>\n",
       "      <td>0</td>\n",
       "    </tr>\n",
       "    <tr>\n",
       "      <th>3</th>\n",
       "      <td>2015</td>\n",
       "      <td>1352</td>\n",
       "      <td>1316</td>\n",
       "      <td>16</td>\n",
       "      <td>16</td>\n",
       "      <td>0</td>\n",
       "    </tr>\n",
       "    <tr>\n",
       "      <th>4</th>\n",
       "      <td>2015</td>\n",
       "      <td>1112</td>\n",
       "      <td>1411</td>\n",
       "      <td>2</td>\n",
       "      <td>15</td>\n",
       "      <td>13</td>\n",
       "    </tr>\n",
       "  </tbody>\n",
       "</table>\n",
       "</div>"
      ],
      "text/plain": [
       "   Season  WTeamID  LTeamID  SeedA  SeedB  SeedDiff\n",
       "0    2015     1214     1264     16     16         0\n",
       "1    2015     1279     1140     11     11         0\n",
       "2    2015     1173     1129     11     11         0\n",
       "3    2015     1352     1316     16     16         0\n",
       "4    2015     1112     1411      2     15        13"
      ]
     },
     "execution_count": 14,
     "metadata": {},
     "output_type": "execute_result"
    }
   ],
   "source": [
    "# Rename seed dataframe to merge easily\n",
    "seeds_A = seeds.rename(columns={\"TeamID\": \"WTeamID\", \"SeedNum\": \"SeedA\"})  # Winner\n",
    "seeds_B = seeds.rename(columns={\"TeamID\": \"LTeamID\", \"SeedNum\": \"SeedB\"})  # Loser\n",
    "\n",
    "# Merge seed values to tournament results\n",
    "tourney_seeds = pd.merge(tourney_results, seeds_A[[\"Season\", \"WTeamID\", \"SeedA\"]], on=[\"Season\", \"WTeamID\"], how=\"left\")\n",
    "\n",
    "tourney_seeds = pd.merge(tourney_seeds, seeds_B[[\"Season\", \"LTeamID\", \"SeedB\"]], on=[\"Season\", \"LTeamID\"], how=\"left\")\n",
    "\n",
    "# Calculate seed difference (Team B - Team A)\n",
    "tourney_seeds[\"SeedDiff\"] = tourney_seeds[\"SeedB\"] - tourney_seeds[\"SeedA\"]\n",
    "\n",
    "# Preview result\n",
    "tourney_seeds[[\"Season\", \"WTeamID\", \"LTeamID\", \"SeedA\", \"SeedB\", \"SeedDiff\"]].head()\n"
   ]
  },
  {
   "cell_type": "markdown",
   "id": "27889990",
   "metadata": {},
   "source": [
    "### Create a neutral matchup dataset for training\n",
    "\n",
    "To train a predictive model, we restructure each historical game into a matchup between TeamA and TeamB, and assign a binary target variable `Winner`.\n",
    "\n",
    "For balance, each game is represented twice:\n",
    "- Once with the winning team as TeamA (`Winner = 1`)\n",
    "- Once with the losing team as TeamA (`Winner = 0`)\n"
   ]
  },
  {
   "cell_type": "code",
   "execution_count": 15,
   "id": "d44f9389",
   "metadata": {},
   "outputs": [
    {
     "data": {
      "text/html": [
       "<div>\n",
       "<style scoped>\n",
       "    .dataframe tbody tr th:only-of-type {\n",
       "        vertical-align: middle;\n",
       "    }\n",
       "\n",
       "    .dataframe tbody tr th {\n",
       "        vertical-align: top;\n",
       "    }\n",
       "\n",
       "    .dataframe thead th {\n",
       "        text-align: right;\n",
       "    }\n",
       "</style>\n",
       "<table border=\"1\" class=\"dataframe\">\n",
       "  <thead>\n",
       "    <tr style=\"text-align: right;\">\n",
       "      <th></th>\n",
       "      <th>Season</th>\n",
       "      <th>TeamA</th>\n",
       "      <th>TeamB</th>\n",
       "      <th>SeedDiff</th>\n",
       "      <th>Winner</th>\n",
       "    </tr>\n",
       "  </thead>\n",
       "  <tbody>\n",
       "    <tr>\n",
       "      <th>65</th>\n",
       "      <td>2015</td>\n",
       "      <td>1458</td>\n",
       "      <td>1246</td>\n",
       "      <td>0</td>\n",
       "      <td>1</td>\n",
       "    </tr>\n",
       "    <tr>\n",
       "      <th>902</th>\n",
       "      <td>2019</td>\n",
       "      <td>1433</td>\n",
       "      <td>1416</td>\n",
       "      <td>1</td>\n",
       "      <td>0</td>\n",
       "    </tr>\n",
       "    <tr>\n",
       "      <th>509</th>\n",
       "      <td>2023</td>\n",
       "      <td>1397</td>\n",
       "      <td>1181</td>\n",
       "      <td>1</td>\n",
       "      <td>1</td>\n",
       "    </tr>\n",
       "    <tr>\n",
       "      <th>242</th>\n",
       "      <td>2018</td>\n",
       "      <td>1276</td>\n",
       "      <td>1222</td>\n",
       "      <td>3</td>\n",
       "      <td>1</td>\n",
       "    </tr>\n",
       "    <tr>\n",
       "      <th>1022</th>\n",
       "      <td>2022</td>\n",
       "      <td>1103</td>\n",
       "      <td>1417</td>\n",
       "      <td>-9</td>\n",
       "      <td>0</td>\n",
       "    </tr>\n",
       "  </tbody>\n",
       "</table>\n",
       "</div>"
      ],
      "text/plain": [
       "      Season  TeamA  TeamB  SeedDiff  Winner\n",
       "65      2015   1458   1246         0       1\n",
       "902     2019   1433   1416         1       0\n",
       "509     2023   1397   1181         1       1\n",
       "242     2018   1276   1222         3       1\n",
       "1022    2022   1103   1417        -9       0"
      ]
     },
     "execution_count": 15,
     "metadata": {},
     "output_type": "execute_result"
    }
   ],
   "source": [
    "# First version: winner is TeamA\n",
    "df_win = tourney_seeds.copy()\n",
    "df_win[\"TeamA\"] = df_win[\"WTeamID\"]\n",
    "df_win[\"TeamB\"] = df_win[\"LTeamID\"]\n",
    "df_win[\"SeedDiff\"] = df_win[\"SeedB\"] - df_win[\"SeedA\"]\n",
    "df_win[\"Winner\"] = 1\n",
    "\n",
    "# Second version: loser is TeamA\n",
    "df_lose = tourney_seeds.copy()\n",
    "df_lose[\"TeamA\"] = df_lose[\"LTeamID\"]\n",
    "df_lose[\"TeamB\"] = df_lose[\"WTeamID\"]\n",
    "df_lose[\"SeedDiff\"] = df_lose[\"SeedA\"] - df_lose[\"SeedB\"]\n",
    "df_lose[\"Winner\"] = 0\n",
    "\n",
    "# Combine both\n",
    "matchups = pd.concat([df_win, df_lose], ignore_index=True)\n",
    "\n",
    "# Keep only necessary columns\n",
    "matchups = matchups[[\"Season\", \"TeamA\", \"TeamB\", \"SeedDiff\", \"Winner\"]]\n",
    "\n",
    "# Preview\n",
    "matchups.sample(5)\n"
   ]
  },
  {
   "cell_type": "markdown",
   "id": "6ed4ad3f",
   "metadata": {},
   "source": [
    "## Phase 4: Prediction Engine\n",
    "### Train a prediction model (Logistic Regression)\n",
    "\n",
    "We will now train a logistic regression model using historical NCAA tournament games. The model will learn to estimate the probability that TeamA wins based on the seed difference.\n"
   ]
  },
  {
   "cell_type": "code",
   "execution_count": 18,
   "id": "6f702528",
   "metadata": {},
   "outputs": [
    {
     "name": "stdout",
     "output_type": "stream",
     "text": [
      "Accuracy: 0.6390041493775933\n",
      "AUC Score: 0.6642561983471075\n"
     ]
    }
   ],
   "source": [
    "#!pip install scikit-learn\n",
    "\n",
    "from sklearn.linear_model import LogisticRegression\n",
    "from sklearn.model_selection import train_test_split\n",
    "from sklearn.metrics import accuracy_score, roc_auc_score\n",
    "\n",
    "# Select features and target\n",
    "X = matchups[[\"SeedDiff\"]]   # Feature(s)\n",
    "y = matchups[\"Winner\"]       # Target (1 if TeamA won, 0 otherwise)\n",
    "\n",
    "# Split into training and test sets\n",
    "X_train, X_test, y_train, y_test = train_test_split(\n",
    "    X, y, test_size=0.2, random_state=42, stratify=y)\n",
    "\n",
    "# Train logistic regression model\n",
    "model = LogisticRegression()\n",
    "model.fit(X_train, y_train)\n",
    "\n",
    "# Predict probabilities and evaluate\n",
    "y_pred = model.predict(X_test)\n",
    "y_prob = model.predict_proba(X_test)[:, 1]\n",
    "\n",
    "# Evaluation metrics\n",
    "print(\"Accuracy:\", accuracy_score(y_test, y_pred))\n",
    "print(\"AUC Score:\", roc_auc_score(y_test, y_prob))\n"
   ]
  }
 ],
 "metadata": {
  "kernelspec": {
   "display_name": ".venv",
   "language": "python",
   "name": "python3"
  },
  "language_info": {
   "codemirror_mode": {
    "name": "ipython",
    "version": 3
   },
   "file_extension": ".py",
   "mimetype": "text/x-python",
   "name": "python",
   "nbconvert_exporter": "python",
   "pygments_lexer": "ipython3",
   "version": "3.12.3"
  }
 },
 "nbformat": 4,
 "nbformat_minor": 5
}
