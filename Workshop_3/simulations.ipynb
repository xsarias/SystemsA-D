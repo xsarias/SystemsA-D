{
 "cells": [
  {
   "cell_type": "markdown",
   "id": "0276e113",
   "metadata": {},
   "source": [
    "Data Ingesting"
   ]
  },
  {
   "cell_type": "code",
   "execution_count": null,
   "id": "27634935",
   "metadata": {
    "vscode": {
     "languageId": "plaintext"
    }
   },
   "outputs": [],
   "source": [
    "import numpy as np\n",
    "import pandas as pd\n",
    "import matplotlib.pyplot as plt\n",
    "import seaborn\n",
    "import warnings\n",
    "\n",
    "warnings.filterwarnings(\"ignore\")\n",
    "pd.set_option(\"display.max_column\", 999)\n",
    "data_dir = \"../input/march-machine-learning-mania-2025\"\n",
    "\n",
    "# W -> women's basketball, M -> men's basketball\n",
    "M_regular_results = pd.read_csv(f\"{data_dir}/MRegularSeasonDetailedResults.csv\")\n",
    "M_tourney_results = pd.read_csv(f\"{data_dir}/MNCAATourneyDetailedResults.csv\")\n",
    "M_seeds = pd.read_csv(f\"{data_dir}/MNCAATourneySeeds.csv\")\n",
    "\n",
    "W_regular_results = pd.read_csv(f\"{data_dir}/WRegularSeasonDetailedResults.csv\")\n",
    "W_tourney_results = pd.read_csv(f\"{data_dir}/WNCAATourneyDetailedResults.csv\")\n",
    "W_seeds = pd.read_csv(f\"{data_dir}/WNCAATourneySeeds.csv\")"
   ]
  }
 ],
 "metadata": {
  "language_info": {
   "name": "python"
  }
 },
 "nbformat": 4,
 "nbformat_minor": 5
}
